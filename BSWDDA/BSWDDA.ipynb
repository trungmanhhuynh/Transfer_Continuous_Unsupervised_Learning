{
 "cells": [
  {
   "cell_type": "markdown",
   "metadata": {},
   "source": [
    "# Beyond Sharing Weights for Deep Domain Adaptation\n",
    "\n",
    "<img src=\"./fig1.JPG\" width=\"400\">\n",
    "\n",
    "<h2> Key Idea: </h2> Use two network streams (one for source domain, one for target domain) to simutaneously learn the network weights. This is the first time the 2 network streams are proposed ?, because of this the network weights of both domains are not necessary shared but related in some degrees. \n",
    "\n",
    "<img src=\"./fig2.JPG\" width=\"400\">\n",
    "where\n",
    "<img src=\"./fig3.JPG\" width=\"400\">\n",
    "The Maximum Mean Discrepancy (MMD) is also used in this work to learn model in unsupervised fashion. The MMD minimizes the discrepancy in the last layer of feature extraction. Intuitively, regardless of different domains, their presentations of the \n",
    "last layour should be simmilar. \n",
    "\n"
   ]
  },
  {
   "cell_type": "code",
   "execution_count": null,
   "metadata": {},
   "outputs": [],
   "source": []
  }
 ],
 "metadata": {
  "kernelspec": {
   "display_name": "Python 3",
   "language": "python",
   "name": "python3"
  },
  "language_info": {
   "codemirror_mode": {
    "name": "ipython",
    "version": 3
   },
   "file_extension": ".py",
   "mimetype": "text/x-python",
   "name": "python",
   "nbconvert_exporter": "python",
   "pygments_lexer": "ipython3",
   "version": "3.7.3"
  }
 },
 "nbformat": 4,
 "nbformat_minor": 2
}
