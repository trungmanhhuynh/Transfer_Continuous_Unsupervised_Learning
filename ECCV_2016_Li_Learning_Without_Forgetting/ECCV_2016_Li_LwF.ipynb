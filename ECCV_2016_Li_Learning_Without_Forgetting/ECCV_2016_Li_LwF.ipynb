{
 "cells": [
  {
   "cell_type": "markdown",
   "metadata": {},
   "source": [
    "# Learning without Forgetting\n",
    "<h2> Zhizhong Li, Derek Hoiem- ECCV_2016 </h2>\n",
    "\n",
    "**Key contribution:** A model that learn new tasks by NOT using old tranining data. Thus, the model trains fasters than existing networks. \n",
    "![](./fig2.JPG)\n",
    "\n",
    "![](./fig3.JPG)\n",
    "\n",
    "The algorithm can be described as follows\n",
    "1. Given the existing network trained for old classes (let's say cat and dog) and images of new class bird, the bird images are tested on this network and produces a set of outputs $Y_o$\n",
    "2. The new nodes are added to the old network for bird class and initlized with random variables. \n",
    "3. The bird images are used to trained the new network to minimize following loss: \n",
    "    - $\\mathcal{L_{old}}(Y_o,\\hat{Y_o})$: is knowledge distllation loss, which we want the new network produces the same outputs as the old network in old network branch. \n",
    "    - $\\mathcal{L_{new}}(Y_n,\\hat{Y_n})$: classification loss for bird images.\n",
    "    - $\\mathcal{R}$ is regularization using simple weight decay (not clear what it means). \n",
    "\n",
    "**Results:**\n",
    "- The paper presents good results on some cases but not all the cases in comparisons with existing methods. Also, because\n",
    "only the data of new tasks are used to train the new network, the accuracy degrades on old tasks. \n",
    "- It used the accuracies of batch method (when all test/train data is availble) as upperbounds\n",
    "\n",
    "**What to learn**: Though not using the old data for training new networks, only using new training data and distillation loss seems to be interesting. \n"
   ]
  },
  {
   "cell_type": "code",
   "execution_count": null,
   "metadata": {},
   "outputs": [],
   "source": []
  }
 ],
 "metadata": {
  "kernelspec": {
   "display_name": "Python 3",
   "language": "python",
   "name": "python3"
  },
  "language_info": {
   "codemirror_mode": {
    "name": "ipython",
    "version": 3
   },
   "file_extension": ".py",
   "mimetype": "text/x-python",
   "name": "python",
   "nbconvert_exporter": "python",
   "pygments_lexer": "ipython3",
   "version": "3.7.3"
  }
 },
 "nbformat": 4,
 "nbformat_minor": 2
}
