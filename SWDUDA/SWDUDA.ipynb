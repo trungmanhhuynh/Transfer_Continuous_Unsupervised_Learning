{
 "cells": [
  {
   "cell_type": "markdown",
   "metadata": {},
   "source": [
    "# Sliced Wasserstein Discrepancy for Unsupervised Domain Adaptation\n",
    "# CVPR 2019\n",
    "\n",
    "<h2> Key Idea:</h2> Simmiliar to [1] except for using Wasserstein Discrepancy for discrepancy loss instead of $L1$ norm.\n",
    "\n",
    "\n",
    "<h2> References </h2>\n",
    "[1] Kuniaki Saito, Kohei Watanabe, Yoshitaka Ushiku, and Tatsuya Harada. Maximum classifier discrepancy for unsupervised domain adaptation. In CVPR, 2018"
   ]
  },
  {
   "cell_type": "code",
   "execution_count": null,
   "metadata": {},
   "outputs": [],
   "source": []
  }
 ],
 "metadata": {
  "kernelspec": {
   "display_name": "Python 3",
   "language": "python",
   "name": "python3"
  },
  "language_info": {
   "codemirror_mode": {
    "name": "ipython",
    "version": 3
   },
   "file_extension": ".py",
   "mimetype": "text/x-python",
   "name": "python",
   "nbconvert_exporter": "python",
   "pygments_lexer": "ipython3",
   "version": "3.7.3"
  }
 },
 "nbformat": 4,
 "nbformat_minor": 2
}
