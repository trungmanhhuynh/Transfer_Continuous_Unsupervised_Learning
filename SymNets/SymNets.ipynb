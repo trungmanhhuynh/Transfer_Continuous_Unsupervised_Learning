{
 "cells": [
  {
   "cell_type": "markdown",
   "metadata": {},
   "source": [
    "# Domain-Symmetric Networks for Adversarial Domain Adaptation\n",
    "\n",
    "# CVPR 2019\n",
    "\n",
    "<h2> Key Idea </h2> I found the idea of this paper is very simmilar to [CLAN] paper except that this paper does not rely on using adversarial learning loss. They are the same as the way using 2 classifiers (this paper calls it symmetric network).\n",
    "\n",
    "This paper is also related to the concept of Domain Confusion. \n",
    "However, this paper does not give an clear an intuitive explanation about how to train the unlabeled target data. The Figure 2 does not help understand the paper better. \n",
    "\n",
    "<img src=\"./fig1.JPG\" width=\"700\">\n",
    "\n",
    "\n",
    "Although the results are good, some illustration of cluster scattering are\n"
   ]
  },
  {
   "cell_type": "code",
   "execution_count": null,
   "metadata": {},
   "outputs": [],
   "source": []
  }
 ],
 "metadata": {
  "kernelspec": {
   "display_name": "Python 3",
   "language": "python",
   "name": "python3"
  },
  "language_info": {
   "codemirror_mode": {
    "name": "ipython",
    "version": 3
   },
   "file_extension": ".py",
   "mimetype": "text/x-python",
   "name": "python",
   "nbconvert_exporter": "python",
   "pygments_lexer": "ipython3",
   "version": "3.7.3"
  }
 },
 "nbformat": 4,
 "nbformat_minor": 2
}
