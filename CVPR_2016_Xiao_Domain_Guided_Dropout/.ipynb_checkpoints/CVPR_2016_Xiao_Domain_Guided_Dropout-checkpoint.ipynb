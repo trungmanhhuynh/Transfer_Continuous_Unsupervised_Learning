{
 "cells": [
  {
   "cell_type": "markdown",
   "metadata": {},
   "source": [
    "#Learning Deep Feature Representations with Domain Guided Dropout for Person Re-identification\n",
    "<h2> Tong Xiao Hongsheng The Chinese University of Hong Kong </h2> \n",
    "<h2> CVPR 2016 </h2> \n",
    "\n",
    "\n",
    "**What's interesting ?** - Train a network using all domains (datasets) and fine-tune the network by using drop-out methods for each datasets. The paper shows that instead of using random dropout, the deterministic dropout, stoschatic dropout, and the combination of these two improve the accuracy of each dataset significantly. The dropout only acts on the near last layer of the network. \n",
    "![test image size](./fig1.JPG)\n",
    "\n",
    "<img src=\"./fig1.JPG\" width=\"200\">\n",
    "\n",
    "**Deterministic Dropout: **\n",
    "\n"
   ]
  },
  {
   "cell_type": "code",
   "execution_count": null,
   "metadata": {},
   "outputs": [],
   "source": []
  }
 ],
 "metadata": {
  "kernelspec": {
   "display_name": "Python 3",
   "language": "python",
   "name": "python3"
  },
  "language_info": {
   "codemirror_mode": {
    "name": "ipython",
    "version": 3
   },
   "file_extension": ".py",
   "mimetype": "text/x-python",
   "name": "python",
   "nbconvert_exporter": "python",
   "pygments_lexer": "ipython3",
   "version": "3.7.3"
  }
 },
 "nbformat": 4,
 "nbformat_minor": 2
}
