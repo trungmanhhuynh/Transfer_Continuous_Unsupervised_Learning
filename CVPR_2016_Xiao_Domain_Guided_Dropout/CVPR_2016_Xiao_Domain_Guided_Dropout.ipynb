{
 "cells": [
  {
   "cell_type": "markdown",
   "metadata": {},
   "source": [
    "#Learning Deep Feature Representations with Domain Guided Dropout for Person Re-identification\n",
    "<h2> Tong Xiao Hongsheng The Chinese University of Hong Kong </h2> \n",
    "<h2> CVPR 2016 </h2> \n",
    "\n",
    "\n",
    "**What's interesting ?** - Train a network using all domains (datasets) and fine-tune the network by using drop-out methods for each datasets. The paper shows that instead of using random dropout, the deterministic dropout, stoschatic dropout, and the combination of these two improve the accuracy of each dataset significantly. The dropout only acts on the near last layer of the network. \n",
    "\n",
    "<img src=\"./fig1.JPG\" width=\"700\">\n",
    "\n",
    "**Deterministic Dropout:** Each neuron is assign a impact score based on its contribution to the lost reduction. That's said, the more loss is reduced by disable a neuron, the more contribution it is. The impact score is calculated as: \n",
    "<img src=\"./fig2.JPG\" width=\"300\">\n",
    "This formula can be approximated using Talor's expansion for accelerating the training process: \n",
    "<img src=\"./fig3.JPG\" width=\"300\">\n",
    "The neoron having non-positive impacts will be discarded: \n",
    "<img src=\"./fig4.JPG\" width=\"300\">\n",
    "\n",
    "**Stochastic Dropout:** Using Bernoulli distribution with probability.\n",
    "<img src=\"./fig5.JPG\" width=\"300\">\n",
    "\n",
    "\n",
    "\n",
    "**Results** It works on different re-id datasets. \n",
    "\n"
   ]
  },
  {
   "cell_type": "code",
   "execution_count": null,
   "metadata": {},
   "outputs": [],
   "source": []
  }
 ],
 "metadata": {
  "kernelspec": {
   "display_name": "Python 3",
   "language": "python",
   "name": "python3"
  },
  "language_info": {
   "codemirror_mode": {
    "name": "ipython",
    "version": 3
   },
   "file_extension": ".py",
   "mimetype": "text/x-python",
   "name": "python",
   "nbconvert_exporter": "python",
   "pygments_lexer": "ipython3",
   "version": "3.7.3"
  }
 },
 "nbformat": 4,
 "nbformat_minor": 2
}
