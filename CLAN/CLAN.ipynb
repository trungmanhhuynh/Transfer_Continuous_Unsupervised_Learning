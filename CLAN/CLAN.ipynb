{
 "cells": [
  {
   "cell_type": "markdown",
   "metadata": {},
   "source": [
    "# Taking A Closer Look at Domain Shift: Category-level Adversaries for Semantics Consistent Domain Adaptation\n",
    "# CVPR 2019\n",
    "\n",
    "<img src=\"./fig1.JPG\" width=\"400\">\n",
    "\n",
    "<h2> Key Idea: </h2> This paper points out an problem of using adversarial learning for unsupervised domain adaptation, that is the dversarial learning focuses on align source and target distributions globally, which turns outs to misalign some specfic catergories that already aligned now becomes misaligned. \n",
    "\n",
    "<h2> HOW </h2> The paper proposed to incorperate discrepancy loss into adversarial loss. The benefits of using discrepancy loss, which is already used in another paper, called co-training, with adversarial loss seems to be interesting: \n",
    "\n",
    "- The discrepancy loss is minimized in co-training of 2 classifiers, which encourages the network looks at the final feature represention of an image in two different points of views. It can be achieved by minimized the cosine simmilarity.\n",
    "<img src=\"./fig2.JPG\" width=\"200\">\n",
    "\n",
    "- When the discrepancy is included in discriminator loss, it brings some meanings. When the discrepancy is high, the dicriminator introduces more loss to the generators. In this case, the generator will significantly adjust its weights. Otherwise, if the discrepancy is low (2 classifiers predict the same label for each pixel), generator does not have to change its weigth too much. The adversarial loss is: \n",
    "<img src=\"./fig3.JPG\" width=\"400\">\n",
    "\n",
    "- Segmentation loss is:\n",
    "<img src=\"./fig5.JPG\" width=\"400\">\n",
    "\n",
    "- Final Loss is: \n",
    "<img src=\"./fig4.JPG\" width=\"400\">\n",
    "\n",
    "\n",
    "<h2> Results </h2> The results on pixel segmmenation looks interesting with the plots of cluster using t-SNE.\n",
    "<img src=\"./fig6.JPG\" width=\"700\">\n",
    "\n",
    "\n"
   ]
  },
  {
   "cell_type": "code",
   "execution_count": null,
   "metadata": {},
   "outputs": [],
   "source": []
  }
 ],
 "metadata": {
  "kernelspec": {
   "display_name": "Python 3",
   "language": "python",
   "name": "python3"
  },
  "language_info": {
   "codemirror_mode": {
    "name": "ipython",
    "version": 3
   },
   "file_extension": ".py",
   "mimetype": "text/x-python",
   "name": "python",
   "nbconvert_exporter": "python",
   "pygments_lexer": "ipython3",
   "version": "3.7.3"
  }
 },
 "nbformat": 4,
 "nbformat_minor": 2
}
