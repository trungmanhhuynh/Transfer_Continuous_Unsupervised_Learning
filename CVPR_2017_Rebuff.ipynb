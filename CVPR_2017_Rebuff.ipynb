{
 "cells": [
  {
   "cell_type": "code",
   "execution_count": 1,
   "metadata": {},
   "outputs": [],
   "source": [
    "from IPython.display import Image"
   ]
  },
  {
   "cell_type": "markdown",
   "metadata": {},
   "source": [
    "# iCarRL: Incremental Classifier and Representation Learning.\n",
    "\n",
    "__Sylvestre-Alvise Rebuffi- University of Oxford/IST Austria__\n",
    "\n",
    "This paper proposed a method that learn data representation and Incremental Learning Classifier (using 32-Layer ResNet) simutaneously. The paper experiments on image datasets (CIFAR100, ILSVRC).\n",
    ". \n",
    "<img src=\"Figure_1.jpg\" width=\"400\">\n",
    "\n",
    "**Data Representation**. For every incremental step, the samples (images) of each class for old and new classes are constructed. The total samples must not be excceed K, thus each class will have max $m =K/t$, given t classes are presented.\n",
    "<img src=\"Figure_2.jpg\" width=\"400\">\n",
    "\n",
    "**Incremental Learning** \n",
    "Given m samples of each class (old and new ones), the steps of incremental learning is as follows:\n",
    "1. All samples are gathered into set $D$\n",
    "2. Calcualate network outputs with pre-update network\n",
    "\n"
   ]
  },
  {
   "cell_type": "code",
   "execution_count": null,
   "metadata": {},
   "outputs": [],
   "source": []
  }
 ],
 "metadata": {
  "kernelspec": {
   "display_name": "Python 3",
   "language": "python",
   "name": "python3"
  },
  "language_info": {
   "codemirror_mode": {
    "name": "ipython",
    "version": 3
   },
   "file_extension": ".py",
   "mimetype": "text/x-python",
   "name": "python",
   "nbconvert_exporter": "python",
   "pygments_lexer": "ipython3",
   "version": "3.7.3"
  }
 },
 "nbformat": 4,
 "nbformat_minor": 2
}
